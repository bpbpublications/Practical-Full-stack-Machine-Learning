{
 "cells": [
  {
   "cell_type": "code",
   "execution_count": 92,
   "metadata": {},
   "outputs": [],
   "source": [
    "%reload_ext autoreload\n",
    "%autoreload 2"
   ]
  },
  {
   "cell_type": "code",
   "execution_count": 93,
   "metadata": {},
   "outputs": [],
   "source": [
    "from sacred import Experiment\n",
    "from sacred.observers import FileStorageObserver\n",
    "from sklearn import svm, datasets, model_selection"
   ]
  },
  {
   "cell_type": "code",
   "execution_count": 94,
   "metadata": {},
   "outputs": [],
   "source": [
    "ex = Experiment(\"svm\", interactive=True)"
   ]
  },
  {
   "cell_type": "code",
   "execution_count": 95,
   "metadata": {},
   "outputs": [],
   "source": [
    "ex.observers.append(FileStorageObserver.create('ML_SVM_runs'))"
   ]
  },
  {
   "cell_type": "code",
   "execution_count": 96,
   "metadata": {},
   "outputs": [],
   "source": [
    "ex.add_config('ML_SVM_conf.json')"
   ]
  },
  {
   "cell_type": "code",
   "execution_count": 97,
   "metadata": {},
   "outputs": [],
   "source": [
    "@ex.capture\n",
    "def get_model(C, gamma, kernel):\n",
    "    return svm.SVC(C=C, kernel=kernel, gamma=gamma)"
   ]
  },
  {
   "cell_type": "code",
   "execution_count": 98,
   "metadata": {},
   "outputs": [],
   "source": [
    "@ex.main  \n",
    "def run():\n",
    "    X, y = datasets.load_breast_cancer(return_X_y=True)\n",
    "    X_train, X_test, y_train, y_test = model_selection.train_test_split(X, y, test_size=0.2)\n",
    "    clf = get_model()  # Parameters are injected automatically.\n",
    "    clf.fit(X_train, y_train)\n",
    "    return clf.score(X_test, y_test)"
   ]
  },
  {
   "cell_type": "code",
   "execution_count": 99,
   "metadata": {},
   "outputs": [
    {
     "name": "stderr",
     "output_type": "stream",
     "text": [
      "INFO - svm - Running command 'run'\n",
      "INFO - svm - Started run with ID \"3\"\n",
      "INFO - svm - Result: 0.6228070175438597\n",
      "INFO - svm - Completed after 0:00:00\n"
     ]
    },
    {
     "data": {
      "text/plain": [
       "<sacred.run.Run at 0x1a1705a390>"
      ]
     },
     "execution_count": 99,
     "metadata": {},
     "output_type": "execute_result"
    }
   ],
   "source": [
    "ex.run()"
   ]
  },
  {
   "cell_type": "code",
   "execution_count": 100,
   "metadata": {},
   "outputs": [
    {
     "name": "stdout",
     "output_type": "stream",
     "text": [
      "\u001b[01;34mML_SVM_runs\u001b[00m\r\n",
      "├── \u001b[01;34m1\u001b[00m\r\n",
      "│   ├── config.json\r\n",
      "│   ├── cout.txt\r\n",
      "│   ├── metrics.json\r\n",
      "│   └── run.json\r\n",
      "├── \u001b[01;34m2\u001b[00m\r\n",
      "│   ├── config.json\r\n",
      "│   ├── cout.txt\r\n",
      "│   ├── metrics.json\r\n",
      "│   └── run.json\r\n",
      "└── \u001b[01;34m3\u001b[00m\r\n",
      "    ├── config.json\r\n",
      "    ├── cout.txt\r\n",
      "    ├── metrics.json\r\n",
      "    └── run.json\r\n",
      "\r\n",
      "3 directories, 12 files\r\n"
     ]
    }
   ],
   "source": [
    "!tree ML_SVM_runs"
   ]
  },
  {
   "cell_type": "code",
   "execution_count": 101,
   "metadata": {},
   "outputs": [
    {
     "name": "stdout",
     "output_type": "stream",
     "text": [
      "{\r\n",
      "  \"C\": 1.0,\r\n",
      "  \"gamma\": 0.7,\r\n",
      "  \"kernel\": \"rbf\",\r\n",
      "  \"seed\": 42\r\n",
      "}"
     ]
    }
   ],
   "source": [
    "! cat ML_SVM_runs/1/config.json"
   ]
  },
  {
   "cell_type": "code",
   "execution_count": 91,
   "metadata": {},
   "outputs": [
    {
     "name": "stdout",
     "output_type": "stream",
     "text": [
      "{\r\n",
      "  \"artifacts\": [],\r\n",
      "  \"command\": \"run\",\r\n",
      "  \"experiment\": {\r\n",
      "    \"base_dir\": \"/Users/alokumar0/Documents/Projects/personal/PacktCourse/Section-1/video 1.2/code\",\r\n",
      "    \"dependencies\": [\r\n",
      "      \"ipython==7.6.1\",\r\n",
      "      \"numpy==1.16.4\",\r\n",
      "      \"sacred==0.7.5\",\r\n",
      "      \"scikit-learn==0.21.2\"\r\n",
      "    ],\r\n",
      "    \"mainfile\": null,\r\n",
      "    \"name\": \"svm\",\r\n",
      "    \"repositories\": [],\r\n",
      "    \"sources\": []\r\n",
      "  },\r\n",
      "  \"heartbeat\": \"2019-08-31T21:46:57.037056\",\r\n",
      "  \"host\": {\r\n",
      "    \"ENV\": {},\r\n",
      "    \"cpu\": \"Intel(R) Core(TM) i7-9750H CPU @ 2.60GHz\",\r\n",
      "    \"hostname\": \"WKMIN6388196\",\r\n",
      "    \"os\": [\r\n",
      "      \"Darwin\",\r\n",
      "      \"Darwin-18.7.0-x86_64-i386-64bit\"\r\n",
      "    ],\r\n",
      "    \"python_version\": \"3.7.3\"\r\n",
      "  },\r\n",
      "  \"meta\": {\r\n",
      "    \"command\": \"run\",\r\n",
      "    \"options\": {\r\n",
      "      \"--beat_interval\": null,\r\n",
      "      \"--capture\": null,\r\n",
      "      \"--comment\": null,\r\n",
      "      \"--debug\": false,\r\n",
      "      \"--enforce_clean\": false,\r\n",
      "      \"--file_storage\": null,\r\n",
      "      \"--force\": false,\r\n",
      "      \"--help\": false,\r\n",
      "      \"--loglevel\": null,\r\n",
      "      \"--mongo_db\": null,\r\n",
      "      \"--name\": null,\r",
      "\r\n",
      "      \"--pdb\": false,\r\n",
      "      \"--print_config\": false,\r\n",
      "      \"--priority\": null,\r\n",
      "      \"--queue\": false,\r\n",
      "      \"--sql\": null,\r\n",
      "      \"--tiny_db\": null,\r\n",
      "      \"--unobserved\": false\r\n",
      "    }\r\n",
      "  },\r\n",
      "  \"resources\": [],\r\n",
      "  \"result\": 0.6228070175438597,\r\n",
      "  \"start_time\": \"2019-08-31T21:46:57.010125\",\r\n",
      "  \"status\": \"COMPLETED\",\r\n",
      "  \"stop_time\": \"2019-08-31T21:46:57.035234\"\r\n",
      "}"
     ]
    }
   ],
   "source": [
    "! cat ML_SVM_runs/1/run.json"
   ]
  },
  {
   "cell_type": "code",
   "execution_count": null,
   "metadata": {},
   "outputs": [],
   "source": []
  }
 ],
 "metadata": {
  "kernelspec": {
   "display_name": "Python 3",
   "language": "python",
   "name": "python3"
  },
  "language_info": {
   "codemirror_mode": {
    "name": "ipython",
    "version": 3
   },
   "file_extension": ".py",
   "mimetype": "text/x-python",
   "name": "python",
   "nbconvert_exporter": "python",
   "pygments_lexer": "ipython3",
   "version": "3.7.3"
  }
 },
 "nbformat": 4,
 "nbformat_minor": 2
}
