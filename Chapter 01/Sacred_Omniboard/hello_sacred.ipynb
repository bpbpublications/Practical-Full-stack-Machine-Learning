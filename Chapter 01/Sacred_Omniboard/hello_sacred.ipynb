{
 "cells": [
  {
   "cell_type": "code",
   "execution_count": 1,
   "metadata": {},
   "outputs": [],
   "source": [
    "%reload_ext autoreload\n",
    "%autoreload 2"
   ]
  },
  {
   "cell_type": "code",
   "execution_count": 2,
   "metadata": {},
   "outputs": [],
   "source": [
    "from sacred import Experiment"
   ]
  },
  {
   "cell_type": "code",
   "execution_count": 3,
   "metadata": {},
   "outputs": [],
   "source": [
    "ex = Experiment(\"my_experiment\",interactive=True)"
   ]
  },
  {
   "cell_type": "code",
   "execution_count": 4,
   "metadata": {},
   "outputs": [],
   "source": [
    "@ex.config\n",
    "def my_config():\n",
    "    recipient = \"world\"\n",
    "    message = \"Hello %s!\" % recipient"
   ]
  },
  {
   "cell_type": "code",
   "execution_count": 5,
   "metadata": {},
   "outputs": [],
   "source": [
    "#@ex.automain\n",
    "@ex.main\n",
    "def my_main(message):\n",
    "    print(message)"
   ]
  },
  {
   "cell_type": "code",
   "execution_count": 6,
   "metadata": {},
   "outputs": [
    {
     "name": "stderr",
     "output_type": "stream",
     "text": [
      "WARNING - my_experiment - No observers have been added to this run\n",
      "INFO - my_experiment - Running command 'my_main'\n",
      "INFO - my_experiment - Started\n",
      "INFO - my_experiment - Completed after 0:00:00\n"
     ]
    },
    {
     "name": "stdout",
     "output_type": "stream",
     "text": [
      "Hello world!\n"
     ]
    },
    {
     "data": {
      "text/plain": [
       "<sacred.run.Run at 0x104619048>"
      ]
     },
     "execution_count": 6,
     "metadata": {},
     "output_type": "execute_result"
    }
   ],
   "source": [
    "ex.run()"
   ]
  },
  {
   "cell_type": "markdown",
   "metadata": {},
   "source": [
    "## Managing configurations\n",
    "##### There are three different ways of adding configuration to an experiment. Through Config Scopes, Dictionaries, and Config Files"
   ]
  },
  {
   "cell_type": "markdown",
   "metadata": {},
   "source": [
    "#### config scopes\n",
    "Config scopes is a regular function decorated with @ex.config. All variables from its local scope are then collected, and become configuration entries of the experiment.\n",
    "Note : Functions used as a config scopes cannot contain any return or yield statements!"
   ]
  },
  {
   "cell_type": "code",
   "execution_count": 7,
   "metadata": {},
   "outputs": [],
   "source": [
    "@ex.config\n",
    "def my_config():\n",
    "    x = 5 #some integer\n",
    "    conf = {'foo': '10', 'bar':'ten'}"
   ]
  },
  {
   "cell_type": "code",
   "execution_count": 8,
   "metadata": {},
   "outputs": [],
   "source": [
    "@ex.main\n",
    "def my_main(x, conf):\n",
    "    print(f\"x = {x}\")\n",
    "    print(f\"foo = {conf['foo']}\")\n"
   ]
  },
  {
   "cell_type": "code",
   "execution_count": 9,
   "metadata": {},
   "outputs": [
    {
     "name": "stderr",
     "output_type": "stream",
     "text": [
      "WARNING - my_experiment - No observers have been added to this run\n",
      "INFO - my_experiment - Running command 'my_main'\n",
      "INFO - my_experiment - Started\n",
      "INFO - my_experiment - Completed after 0:00:00\n"
     ]
    },
    {
     "name": "stdout",
     "output_type": "stream",
     "text": [
      "x = 5\n",
      "foo = 10\n"
     ]
    },
    {
     "data": {
      "text/plain": [
       "<sacred.run.Run at 0x114304c50>"
      ]
     },
     "execution_count": 9,
     "metadata": {},
     "output_type": "execute_result"
    }
   ],
   "source": [
    "ex.run()"
   ]
  },
  {
   "cell_type": "markdown",
   "metadata": {},
   "source": [
    "####  Dictionaries\n",
    "configurations can added as a dictionary using the ex.add_config method"
   ]
  },
  {
   "cell_type": "code",
   "execution_count": 10,
   "metadata": {},
   "outputs": [],
   "source": [
    "ex.add_config({\n",
    "  'foo': 12,\n",
    "  'bar': 'twelve'\n",
    "})"
   ]
  },
  {
   "cell_type": "code",
   "execution_count": 11,
   "metadata": {},
   "outputs": [],
   "source": [
    "@ex.main\n",
    "def my_main(foo, bar):\n",
    "    print(f\"foo = {foo}\")\n",
    "    print(f\"bar = {bar}\")"
   ]
  },
  {
   "cell_type": "code",
   "execution_count": 12,
   "metadata": {},
   "outputs": [
    {
     "name": "stderr",
     "output_type": "stream",
     "text": [
      "WARNING - my_experiment - No observers have been added to this run\n",
      "INFO - my_experiment - Running command 'my_main'\n",
      "INFO - my_experiment - Started\n",
      "INFO - my_experiment - Completed after 0:00:00\n"
     ]
    },
    {
     "name": "stdout",
     "output_type": "stream",
     "text": [
      "foo = 12\n",
      "bar = twelve\n"
     ]
    },
    {
     "data": {
      "text/plain": [
       "<sacred.run.Run at 0x1150271d0>"
      ]
     },
     "execution_count": 12,
     "metadata": {},
     "output_type": "execute_result"
    }
   ],
   "source": [
    "ex.run()"
   ]
  },
  {
   "cell_type": "markdown",
   "metadata": {},
   "source": [
    "#### Config files"
   ]
  },
  {
   "cell_type": "code",
   "execution_count": 13,
   "metadata": {},
   "outputs": [],
   "source": [
    "ex.add_config('conf.json')\n",
    "#{\n",
    "#  \"foo\": 12,\n",
    "#  \"bar\": \"twelve\"\n",
    "#}"
   ]
  },
  {
   "cell_type": "code",
   "execution_count": 14,
   "metadata": {},
   "outputs": [],
   "source": [
    "@ex.main\n",
    "def my_main(foo, bar):\n",
    "    print(f\"foo = {foo}\")\n",
    "    print(f\"bar = {bar}\")"
   ]
  },
  {
   "cell_type": "code",
   "execution_count": 15,
   "metadata": {},
   "outputs": [
    {
     "name": "stderr",
     "output_type": "stream",
     "text": [
      "WARNING - my_experiment - No observers have been added to this run\n",
      "INFO - my_experiment - Running command 'my_main'\n",
      "INFO - my_experiment - Started\n",
      "INFO - my_experiment - Completed after 0:00:00\n"
     ]
    },
    {
     "name": "stdout",
     "output_type": "stream",
     "text": [
      "foo = 12\n",
      "bar = twelve\n"
     ]
    },
    {
     "data": {
      "text/plain": [
       "<sacred.run.Run at 0x1150204a8>"
      ]
     },
     "execution_count": 15,
     "metadata": {},
     "output_type": "execute_result"
    }
   ],
   "source": [
    "ex.run()"
   ]
  },
  {
   "cell_type": "markdown",
   "metadata": {},
   "source": [
    "# Observe an experiment"
   ]
  },
  {
   "cell_type": "markdown",
   "metadata": {},
   "source": [
    "### Observer connectors\n",
    "* Mongo Observer\n",
    "* The File Storage Observer \n",
    "* TinyDB Observer \n",
    "* SQL Observer \n",
    "* Custom observer"
   ]
  },
  {
   "cell_type": "markdown",
   "metadata": {},
   "source": [
    "### File observer"
   ]
  },
  {
   "cell_type": "code",
   "execution_count": 16,
   "metadata": {},
   "outputs": [],
   "source": [
    "ex = Experiment(\"my_observer_experiment\",interactive=True)\n",
    "ex.add_config('conf.json')\n",
    "@ex.main\n",
    "def my_main(foo, bar):\n",
    "    print(f\"foo = {foo}\")\n",
    "    print(f\"bar = {bar}\")"
   ]
  },
  {
   "cell_type": "code",
   "execution_count": 17,
   "metadata": {},
   "outputs": [],
   "source": [
    "from sacred.observers import FileStorageObserver"
   ]
  },
  {
   "cell_type": "code",
   "execution_count": 18,
   "metadata": {},
   "outputs": [],
   "source": [
    "ex.observers.append(FileStorageObserver.create('test_runs'))"
   ]
  },
  {
   "cell_type": "code",
   "execution_count": 19,
   "metadata": {},
   "outputs": [
    {
     "name": "stderr",
     "output_type": "stream",
     "text": [
      "INFO - my_observer_experiment - Running command 'my_main'\n",
      "INFO - my_observer_experiment - Started run with ID \"1\"\n",
      "INFO - my_observer_experiment - Completed after 0:00:00\n"
     ]
    },
    {
     "name": "stdout",
     "output_type": "stream",
     "text": [
      "foo = 12\n",
      "bar = twelve\n"
     ]
    },
    {
     "data": {
      "text/plain": [
       "<sacred.run.Run at 0x115059ac8>"
      ]
     },
     "execution_count": 19,
     "metadata": {},
     "output_type": "execute_result"
    }
   ],
   "source": [
    "ex.run()"
   ]
  },
  {
   "cell_type": "code",
   "execution_count": 20,
   "metadata": {},
   "outputs": [
    {
     "name": "stdout",
     "output_type": "stream",
     "text": [
      "\u001b[01;34mtest_runs/1\u001b[00m\r\n",
      "├── config.json\r\n",
      "├── cout.txt\r\n",
      "├── metrics.json\r\n",
      "└── run.json\r\n",
      "\r\n",
      "0 directories, 4 files\r\n"
     ]
    }
   ],
   "source": [
    "!tree test_runs/1"
   ]
  },
  {
   "cell_type": "code",
   "execution_count": 21,
   "metadata": {},
   "outputs": [
    {
     "name": "stdout",
     "output_type": "stream",
     "text": [
      "{\r\n",
      "  \"artifacts\": [],\r\n",
      "  \"command\": \"my_main\",\r\n",
      "  \"experiment\": {\r\n",
      "    \"base_dir\": \"/Users/alokumar0/Documents/Projects/personal/PacktCourse/Section-1/video 1.5/code\",\r\n",
      "    \"dependencies\": [\r\n",
      "      \"ipython==7.6.1\",\r\n",
      "      \"numpy==1.16.4\",\r\n",
      "      \"sacred==0.7.5\"\r\n",
      "    ],\r\n",
      "    \"mainfile\": null,\r\n",
      "    \"name\": \"my_observer_experiment\",\r\n",
      "    \"repositories\": [],\r\n",
      "    \"sources\": []\r\n",
      "  },\r\n",
      "  \"heartbeat\": \"2019-12-03T18:02:29.325318\",\r\n",
      "  \"host\": {\r\n",
      "    \"ENV\": {},\r\n",
      "    \"cpu\": \"Intel(R) Core(TM) i7-9750H CPU @ 2.60GHz\",\r\n",
      "    \"hostname\": \"WKMIN6388196\",\r\n",
      "    \"os\": [\r\n",
      "      \"Darwin\",\r\n",
      "      \"Darwin-18.7.0-x86_64-i386-64bit\"\r\n",
      "    ],\r\n",
      "    \"python_version\": \"3.7.3\"\r\n",
      "  },\r\n",
      "  \"meta\": {\r\n",
      "    \"command\": \"my_main\",\r\n",
      "    \"options\": {\r\n",
      "      \"--beat_interval\": null,\r\n",
      "      \"--capture\": null,\r\n",
      "      \"--comment\": null,\r\n",
      "      \"--debug\": false,\r\n",
      "      \"--enforce_clean\": false,\r\n",
      "      \"--file_storage\": null,\r\n",
      "      \"--force\": false,\r\n",
      "      \"--help\": false,\r\n",
      "      \"--loglevel\": null,\r\n",
      "      \"--mongo_db\": null,\r\n",
      "      \"--name\": null,\r\n",
      "      \"--pdb\": false,\r\n",
      "      \"--print_config\": false,\r\n",
      "      \"--priority\": null,\r\n",
      "      \"--queue\": false,\r\n",
      "      \"--sql\": null,\r\n",
      "      \"--tiny_db\": null,\r\n",
      "      \"--unobserved\": false\r\n",
      "    }\r\n",
      "  },\r\n",
      "  \"resources\": [],\r\n",
      "  \"result\": null,\r\n",
      "  \"start_time\": \"2019-12-03T18:02:29.319136\",\r\n",
      "  \"status\": \"COMPLETED\",\r\n",
      "  \"stop_time\": \"2019-12-03T18:02:29.323065\"\r\n",
      "}"
     ]
    }
   ],
   "source": [
    "!cat test_runs/1/run.json"
   ]
  },
  {
   "cell_type": "markdown",
   "metadata": {},
   "source": [
    "### Documentation https://sacred.readthedocs.io/en/stable/\n",
    "### Github - https://github.com/IDSIA/sacred"
   ]
  },
  {
   "cell_type": "code",
   "execution_count": null,
   "metadata": {},
   "outputs": [],
   "source": []
  }
 ],
 "metadata": {
  "kernelspec": {
   "display_name": "Python 3",
   "language": "python",
   "name": "python3"
  },
  "language_info": {
   "codemirror_mode": {
    "name": "ipython",
    "version": 3
   },
   "file_extension": ".py",
   "mimetype": "text/x-python",
   "name": "python",
   "nbconvert_exporter": "python",
   "pygments_lexer": "ipython3",
   "version": "3.7.3"
  }
 },
 "nbformat": 4,
 "nbformat_minor": 2
}