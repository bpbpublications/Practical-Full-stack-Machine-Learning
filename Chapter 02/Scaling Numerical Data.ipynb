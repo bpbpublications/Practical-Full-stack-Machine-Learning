{
 "cells": [
  {
   "cell_type": "markdown",
   "metadata": {},
   "source": [
    "## Fixed Width Binning"
   ]
  },
  {
   "cell_type": "code",
   "execution_count": 1,
   "metadata": {},
   "outputs": [],
   "source": [
    "import numpy as np"
   ]
  },
  {
   "cell_type": "code",
   "execution_count": 2,
   "metadata": {},
   "outputs": [],
   "source": [
    "small_counts = np.random.randint(0, 100, 20)"
   ]
  },
  {
   "cell_type": "code",
   "execution_count": 3,
   "metadata": {},
   "outputs": [
    {
     "data": {
      "text/plain": [
       "array([19, 76, 39, 71, 78, 35, 20, 81, 63, 41, 60, 51, 64, 26, 77,  9, 63,\n",
       "       54, 99, 44])"
      ]
     },
     "execution_count": 3,
     "metadata": {},
     "output_type": "execute_result"
    }
   ],
   "source": [
    "small_counts"
   ]
  },
  {
   "cell_type": "code",
   "execution_count": 4,
   "metadata": {},
   "outputs": [
    {
     "data": {
      "text/plain": [
       "array([1, 7, 3, 7, 7, 3, 2, 8, 6, 4, 6, 5, 6, 2, 7, 0, 6, 5, 9, 4])"
      ]
     },
     "execution_count": 4,
     "metadata": {},
     "output_type": "execute_result"
    }
   ],
   "source": [
    "# Map to evenly spaced bins 0-9 by division\n",
    "np.floor_divide(small_counts, 10)"
   ]
  },
  {
   "cell_type": "markdown",
   "metadata": {},
   "source": [
    "## Quantile Binning\n",
    "Quantiles are values that divide the data into equal portions. For example, the median divides the data in halves; half the data points are smaller and half larger than the median. The quartiles divide the data into quarters. "
   ]
  },
  {
   "cell_type": "code",
   "execution_count": 5,
   "metadata": {},
   "outputs": [],
   "source": [
    "import pandas as pd"
   ]
  },
  {
   "cell_type": "code",
   "execution_count": 6,
   "metadata": {},
   "outputs": [
    {
     "name": "stdout",
     "output_type": "stream",
     "text": [
      "[425 419 602 915 841 768 448 855 704 505 994 524 649 821 100 400 692 773\n",
      " 599 771]\n",
      "[0 0 1 3 3 2 0 3 2 1 3 1 1 3 0 0 2 2 1 2]\n"
     ]
    }
   ],
   "source": [
    "# Map the counts to quartiles\n",
    "large_counts = np.random.randint(100, 1000, 20)\n",
    "print (large_counts)\n",
    "\n",
    "print(pd.qcut(large_counts, 4, labels=False))"
   ]
  },
  {
   "cell_type": "markdown",
   "metadata": {},
   "source": [
    "## Log transformation\n",
    "The log function compresses the range of large numbers and expands the range of small numbers. The larger x is, the slower log(x) increments.\n",
    "For e.g.  log10(x) maps the range of [1, 10] to [0, 1], [10, 100] to [1, 2], and so on"
   ]
  },
  {
   "cell_type": "code",
   "execution_count": 7,
   "metadata": {},
   "outputs": [],
   "source": [
    "import numpy as np \n",
    "import matplotlib.pyplot as plt\n",
    "%matplotlib inline"
   ]
  },
  {
   "cell_type": "code",
   "execution_count": 8,
   "metadata": {},
   "outputs": [
    {
     "name": "stdout",
     "output_type": "stream",
     "text": [
      "large count :  [ 70482   2171 172530  27417 140751  65707  98848   9552  45490 102163\n",
      " 103399 170518  14258 193409 167211  75661 166992  25104 188813  18687]\n",
      "large counts log :  [4.84807822 3.33665982 5.23686462 4.43801993 5.14845149 4.81761164\n",
      " 4.99496789 3.98009431 4.65791594 5.00929364 5.01451634 5.23177023\n",
      " 4.15405861 5.28647668 5.22326484 4.87887208 5.22269567 4.39974293\n",
      " 5.27603189 4.27153959]\n"
     ]
    },
    {
     "data": {
      "image/png": "[encoded data removed]",
      "text/plain": [
       "<Figure size 432x288 with 1 Axes>"
      ]
     },
     "metadata": {
      "needs_background": "light"
     },
     "output_type": "display_data"
    }
   ],
   "source": [
    "# An array of counts that span several magnitudes\n",
    "large_counts = np.random.randint(100, 200000, 20)\n",
    "\n",
    "print (\"large count : \", large_counts) \n",
    "\n",
    "large_counts_log = np.log10(large_counts) \n",
    "  \n",
    "print (\"large counts log : \", large_counts_log) \n",
    "  \n",
    "plt.plot(large_counts, large_counts,  \n",
    "         color = 'blue', marker = \"*\") \n",
    "  \n",
    "# red for numpy.log() \n",
    "plt.plot(large_counts_log, large_counts_log,  \n",
    "         color = 'red', marker = \"o\") \n",
    "           \n",
    "plt.title(\"Log transformation\") \n",
    "plt.xlabel(\"large_counts_log\") \n",
    "plt.ylabel(\"large_counts\") \n",
    "plt.show()  "
   ]
  },
  {
   "cell_type": "markdown",
   "metadata": {},
   "source": [
    "## min-max scaling"
   ]
  },
  {
   "cell_type": "code",
   "execution_count": 9,
   "metadata": {},
   "outputs": [],
   "source": [
    "import pandas as pd\n",
    "import sklearn.preprocessing as preproc\n",
    "#The sklearn.preprocessing module includes scaling, centering, normalization, binarization and imputation methods."
   ]
  },
  {
   "cell_type": "code",
   "execution_count": 10,
   "metadata": {},
   "outputs": [],
   "source": [
    "toy_features = np.random.randint(500, 1000, 20)"
   ]
  },
  {
   "cell_type": "code",
   "execution_count": 11,
   "metadata": {},
   "outputs": [
    {
     "data": {
      "text/plain": [
       "array([519, 622, 509, 596, 868, 850, 606, 500, 753, 986, 836, 503, 985,\n",
       "       618, 836, 677, 721, 599, 533, 966])"
      ]
     },
     "execution_count": 11,
     "metadata": {},
     "output_type": "execute_result"
    }
   ],
   "source": [
    "toy_features"
   ]
  },
  {
   "cell_type": "code",
   "execution_count": 12,
   "metadata": {},
   "outputs": [
    {
     "data": {
      "text/plain": [
       "array([0.03909465, 0.25102881, 0.01851852, 0.19753086, 0.75720165,\n",
       "       0.72016461, 0.218107  , 0.        , 0.52057613, 1.        ,\n",
       "       0.69135802, 0.00617284, 0.99794239, 0.24279835, 0.69135802,\n",
       "       0.36419753, 0.45473251, 0.2037037 , 0.06790123, 0.95884774])"
      ]
     },
     "execution_count": 12,
     "metadata": {},
     "output_type": "execute_result"
    }
   ],
   "source": [
    "#Transforms features by scaling each feature to a given range.\n",
    "preproc.minmax_scale(toy_features)"
   ]
  },
  {
   "cell_type": "code",
   "execution_count": 13,
   "metadata": {
    "scrolled": true
   },
   "outputs": [
    {
     "data": {
      "text/plain": [
       "array([ 13.51851852,  32.59259259,  11.66666667,  27.77777778,\n",
       "        78.14814815,  74.81481481,  29.62962963,  10.        ,\n",
       "        56.85185185, 100.        ,  72.22222222,  10.55555556,\n",
       "        99.81481481,  31.85185185,  72.22222222,  42.77777778,\n",
       "        50.92592593,  28.33333333,  16.11111111,  96.2962963 ])"
      ]
     },
     "execution_count": 13,
     "metadata": {},
     "output_type": "execute_result"
    }
   ],
   "source": [
    "preproc.minmax_scale(toy_features,feature_range=(10,100))"
   ]
  },
  {
   "cell_type": "markdown",
   "metadata": {},
   "source": [
    "## Standardization\n",
    "It subtracts off the mean of the feature (over all data points) and divides by the variance. Hence, it can also be called variance scaling. The resulting scaled feature has a mean of 0 and a variance of 1."
   ]
  },
  {
   "cell_type": "code",
   "execution_count": 14,
   "metadata": {},
   "outputs": [
    {
     "data": {
      "text/plain": [
       "array([[-1.12312355],\n",
       "       [-0.49832352],\n",
       "       [-1.18378375],\n",
       "       [-0.65604003],\n",
       "       [ 0.99391733],\n",
       "       [ 0.88472897],\n",
       "       [-0.59537983],\n",
       "       [-1.23837792],\n",
       "       [ 0.29632506],\n",
       "       [ 1.70970766],\n",
       "       [ 0.7998047 ],\n",
       "       [-1.22017986],\n",
       "       [ 1.70364164],\n",
       "       [-0.5225876 ],\n",
       "       [ 0.7998047 ],\n",
       "       [-0.16469244],\n",
       "       [ 0.10221243],\n",
       "       [-0.63784197],\n",
       "       [-1.03819927],\n",
       "       [ 1.58838726]])"
      ]
     },
     "execution_count": 14,
     "metadata": {},
     "output_type": "execute_result"
    }
   ],
   "source": [
    "preproc.StandardScaler().fit_transform(toy_features[:,np.newaxis])"
   ]
  },
  {
   "cell_type": "markdown",
   "metadata": {},
   "source": [
    "## Interaction\n",
    "Rather individual feature tailoring we can combine multiple features together into more complex features. \n",
    "The hope is that complex features can more succinctly capture important information in raw data."
   ]
  },
  {
   "cell_type": "code",
   "execution_count": 15,
   "metadata": {},
   "outputs": [],
   "source": [
    "from sklearn.preprocessing import PolynomialFeatures\n",
    "#Generate a new feature matrix consisting of all polynomial combinations of the \n",
    "#features with degree less than or equal to the specified degree. For example, if an input sample \n",
    "#is two dimensional and of the form [a, b], the degree-2 polynomial features are [1, a, b, a^2, ab, b^2]."
   ]
  },
  {
   "cell_type": "code",
   "execution_count": 16,
   "metadata": {},
   "outputs": [
    {
     "name": "stdout",
     "output_type": "stream",
     "text": [
      "\n",
      " [[0 1]\n",
      " [2 3]\n",
      " [4 5]]\n",
      "\n",
      " [[ 1.  0.  1.  0.  0.  1.]\n",
      " [ 1.  2.  3.  4.  6.  9.]\n",
      " [ 1.  4.  5. 16. 20. 25.]]\n",
      "\n",
      " [[ 1.  0.  1.  0.]\n",
      " [ 1.  2.  3.  6.]\n",
      " [ 1.  4.  5. 20.]]\n"
     ]
    }
   ],
   "source": [
    "X = np.arange(6).reshape(3, 2)\n",
    "print(\"\\n\",X)\n",
    "\n",
    "poly = PolynomialFeatures(2)\n",
    "print(\"\\n\",poly.fit_transform(X))\n",
    "\n",
    "poly = PolynomialFeatures(interaction_only=True)\n",
    "print(\"\\n\",poly.fit_transform(X))"
   ]
  },
  {
   "cell_type": "code",
   "execution_count": null,
   "metadata": {},
   "outputs": [],
   "source": []
  }
 ],
 "metadata": {
  "kernelspec": {
   "display_name": "Python 3",
   "language": "python",
   "name": "python3"
  },
  "language_info": {
   "codemirror_mode": {
    "name": "ipython",
    "version": 3
   },
   "file_extension": ".py",
   "mimetype": "text/x-python",
   "name": "python",
   "nbconvert_exporter": "python",
   "pygments_lexer": "ipython3",
   "version": "3.7.3"
  }
 },
 "nbformat": 4,
 "nbformat_minor": 2
}
